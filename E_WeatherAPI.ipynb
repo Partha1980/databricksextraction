{
 "cells": [
  {
   "cell_type": "markdown",
   "metadata": {
    "application/vnd.databricks.v1+cell": {
     "cellMetadata": {},
     "inputWidgets": {},
     "nuid": "77ee8833-8dc6-4a80-9ccd-2fe348015286",
     "showTitle": false,
     "title": ""
    }
   },
   "source": [
    "# Code to analyse extract weather in London and store in DBFS"
   ]
  },
  {
   "cell_type": "code",
   "execution_count": 0,
   "metadata": {
    "application/vnd.databricks.v1+cell": {
     "cellMetadata": {
      "byteLimit": 2048000,
      "rowLimit": 10000
     },
     "inputWidgets": {},
     "nuid": "c1076451-6d9b-4c34-be8c-5e71252c68e0",
     "showTitle": false,
     "title": ""
    }
   },
   "outputs": [],
   "source": [
    "import requests\n",
    "import json\n",
    "import pytz\n",
    "import time"
   ]
  },
  {
   "cell_type": "code",
   "execution_count": 0,
   "metadata": {
    "application/vnd.databricks.v1+cell": {
     "cellMetadata": {
      "byteLimit": 2048000,
      "rowLimit": 10000
     },
     "inputWidgets": {},
     "nuid": "a5bea38d-5332-410b-b247-84538e146e8c",
     "showTitle": false,
     "title": ""
    }
   },
   "outputs": [],
   "source": [
    "#get access token from https://login.meteomatics.com/api/v1/token (every 2 hrs it changes)\n",
    "#username: \n",
    "#pwd: "
   ]
  },
  {
   "cell_type": "code",
   "execution_count": 0,
   "metadata": {
    "application/vnd.databricks.v1+cell": {
     "cellMetadata": {
      "byteLimit": 2048000,
      "rowLimit": 10000
     },
     "inputWidgets": {},
     "nuid": "fb8e8c69-25f7-45f6-94c0-ae5816dac48e",
     "showTitle": false,
     "title": ""
    }
   },
   "outputs": [],
   "source": [
    "accesstoken = \"\" # get access token\n",
    "\n",
    "latitudeLondon=\"51.5072\"\n",
    "longitudeLondon=\"0.1276\"\n",
    "BST = pytz.timezone(\"Europe/London\")\n",
    "datatime = datetime.now(BST).strftime('%Y-%m-%dT%H:%M:%SZ')\n",
    "\n",
    "url = f\"https://api.meteomatics.com/{datatime}/t_2m:C/{latitudeLondon},{longitudeLondon}/json?access_token={accesstoken}\" \n",
    "print(url)"
   ]
  },
  {
   "cell_type": "code",
   "execution_count": 0,
   "metadata": {
    "application/vnd.databricks.v1+cell": {
     "cellMetadata": {
      "byteLimit": 2048000,
      "rowLimit": 10000
     },
     "inputWidgets": {},
     "nuid": "6318f737-81e2-4b72-bc26-8601f0a9a064",
     "showTitle": false,
     "title": ""
    }
   },
   "outputs": [],
   "source": [
    "response = requests.get(url)\n",
    "data = json.loads(response.text)\n",
    "print (\"Temperature:\", data[\"data\"][0][\"coordinates\"][0][\"dates\"][0][\"value\"])"
   ]
  },
  {
   "cell_type": "code",
   "execution_count": 0,
   "metadata": {
    "application/vnd.databricks.v1+cell": {
     "cellMetadata": {
      "byteLimit": 2048000,
      "rowLimit": 10000
     },
     "inputWidgets": {},
     "nuid": "3652db49-4992-45f4-b2d8-a54c850f4746",
     "showTitle": false,
     "title": ""
    }
   },
   "outputs": [],
   "source": [
    "timestr = time.strftime(\"%Y%m%d-%H%M%S\")\n",
    "filename = f\"/weatherdata/weather{timestr}.json\"\n",
    "dbutils.fs.put(filename,json.dumps(data), True)"
   ]
  },
  {
   "cell_type": "code",
   "execution_count": 0,
   "metadata": {
    "application/vnd.databricks.v1+cell": {
     "cellMetadata": {
      "byteLimit": 2048000,
      "rowLimit": 10000
     },
     "inputWidgets": {},
     "nuid": "7ab423b4-e1bf-42ea-b96d-c06eb9538338",
     "showTitle": false,
     "title": ""
    }
   },
   "outputs": [],
   "source": []
  }
 ],
 "metadata": {
  "application/vnd.databricks.v1+notebook": {
   "dashboards": [],
   "language": "python",
   "notebookMetadata": {
    "pythonIndentUnit": 4
   },
   "notebookName": "E_WeatherAPI",
   "widgets": {}
  }
 },
 "nbformat": 4,
 "nbformat_minor": 0
}
